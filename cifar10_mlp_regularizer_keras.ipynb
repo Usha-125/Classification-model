{
  "nbformat": 4,
  "nbformat_minor": 0,
  "metadata": {
    "colab": {
      "provenance": [],
      "authorship_tag": "ABX9TyOfDHQdyCQPmmNEdHEvHUT5",
      "include_colab_link": true
    },
    "kernelspec": {
      "name": "python3",
      "display_name": "Python 3"
    },
    "language_info": {
      "name": "python"
    }
  },
  "cells": [
    {
      "cell_type": "markdown",
      "metadata": {
        "id": "view-in-github",
        "colab_type": "text"
      },
      "source": [
        "<a href=\"https://colab.research.google.com/github/Usha-125/Classification-model/blob/main/cifar10_mlp_regularizer_keras.ipynb\" target=\"_parent\"><img src=\"https://colab.research.google.com/assets/colab-badge.svg\" alt=\"Open In Colab\"/></a>"
      ]
    },
    {
      "cell_type": "code",
      "execution_count": null,
      "metadata": {
        "id": "hDZEkJM_-z6B"
      },
      "outputs": [],
      "source": []
    },
    {
      "cell_type": "markdown",
      "source": [
        "Experiment  with depth(number of layers)\n",
        "\n",
        "model 1\n",
        "build a model with one hidden layer train it and find validation accuracy (128)\n",
        "\n",
        "model 2\n",
        "build a model with 3 hidden layers and find validation accuracy(1024,512,256)\n",
        "\n",
        "model 3\n",
        "build a model with 5 hidden layers and find validationaccuracy.(1024,512,256,128,64)\n",
        "\n",
        "plot the vaidation accuracy for all 3 models\n",
        "\n",
        "plot the vaidation loss for all 3 models\n",
        "in a single plot"
      ],
      "metadata": {
        "id": "fMjhWD3e-1c0"
      }
    },
    {
      "cell_type": "markdown",
      "source": [
        "Experiment  with depth(number of layers)\n",
        "\n",
        "model 1\n",
        "build a model with SDG optimizer,train it and find validation accuracy (SDG)\n",
        "\n",
        "model 2\n",
        "build a model with adam optimzer and find validation accuracy(adam optimizer)\n",
        "\n",
        "model 3\n",
        "build a model with RMSprop and find validationaccuracy.(RMSprop optimizer)\n",
        "\n",
        "plot the vaidation accuracy for all 3 models\n",
        "\n",
        "plot the vaidation loss for all 3 models\n",
        "in a single plot\n",
        " noteLuse different model name for each for the model"
      ],
      "metadata": {
        "id": "rWfmC9KZAzxX"
      }
    },
    {
      "cell_type": "markdown",
      "source": [],
      "metadata": {
        "id": "J6S8KoB3ATVt"
      }
    },
    {
      "cell_type": "code",
      "source": [
        "#importing modules and libraries\n",
        "from keras.models import Sequential\n",
        "from keras.layers import Dense, Flatten\n",
        "from keras.datasets import fashion_mnist\n",
        "from keras.utils import to_categorical\n",
        "\n",
        "#loading dataset\n",
        "(x_train,y_train),(x_test,y_test)=fashion_mnist.load_data()\n",
        "\n",
        "#normalize\n",
        "\n",
        "x_train=x_train.astype('float32')/255.0\n",
        "x_test=x_test.astype('float32')/255.0"
      ],
      "metadata": {
        "colab": {
          "base_uri": "https://localhost:8080/"
        },
        "id": "Jh96TnZ3_DrX",
        "outputId": "33a5bcdb-63b3-463c-8081-f3366667c974"
      },
      "execution_count": 2,
      "outputs": [
        {
          "output_type": "stream",
          "name": "stdout",
          "text": [
            "Downloading data from https://storage.googleapis.com/tensorflow/tf-keras-datasets/train-labels-idx1-ubyte.gz\n",
            "\u001b[1m29515/29515\u001b[0m \u001b[32m━━━━━━━━━━━━━━━━━━━━\u001b[0m\u001b[37m\u001b[0m \u001b[1m0s\u001b[0m 0us/step\n",
            "Downloading data from https://storage.googleapis.com/tensorflow/tf-keras-datasets/train-images-idx3-ubyte.gz\n",
            "\u001b[1m26421880/26421880\u001b[0m \u001b[32m━━━━━━━━━━━━━━━━━━━━\u001b[0m\u001b[37m\u001b[0m \u001b[1m0s\u001b[0m 0us/step\n",
            "Downloading data from https://storage.googleapis.com/tensorflow/tf-keras-datasets/t10k-labels-idx1-ubyte.gz\n",
            "\u001b[1m5148/5148\u001b[0m \u001b[32m━━━━━━━━━━━━━━━━━━━━\u001b[0m\u001b[37m\u001b[0m \u001b[1m0s\u001b[0m 0us/step\n",
            "Downloading data from https://storage.googleapis.com/tensorflow/tf-keras-datasets/t10k-images-idx3-ubyte.gz\n",
            "\u001b[1m4422102/4422102\u001b[0m \u001b[32m━━━━━━━━━━━━━━━━━━━━\u001b[0m\u001b[37m\u001b[0m \u001b[1m0s\u001b[0m 0us/step\n"
          ]
        }
      ]
    }
  ]
}