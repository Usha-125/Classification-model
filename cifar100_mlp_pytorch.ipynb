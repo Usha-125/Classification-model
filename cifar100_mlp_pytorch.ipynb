{
  "nbformat": 4,
  "nbformat_minor": 0,
  "metadata": {
    "colab": {
      "provenance": [],
      "authorship_tag": "ABX9TyOKoDBlPOcYGxZVj1HPuvI6",
      "include_colab_link": true
    },
    "kernelspec": {
      "name": "python3",
      "display_name": "Python 3"
    },
    "language_info": {
      "name": "python"
    }
  },
  "cells": [
    {
      "cell_type": "markdown",
      "metadata": {
        "id": "view-in-github",
        "colab_type": "text"
      },
      "source": [
        "<a href=\"https://colab.research.google.com/github/Usha-125/Classification-model/blob/main/cifar100_mlp_pytorch.ipynb\" target=\"_parent\"><img src=\"https://colab.research.google.com/assets/colab-badge.svg\" alt=\"Open In Colab\"/></a>"
      ]
    },
    {
      "cell_type": "code",
      "execution_count": 4,
      "metadata": {
        "colab": {
          "base_uri": "https://localhost:8080/"
        },
        "id": "tzA0wjPAJduD",
        "outputId": "4a56f3b6-97fe-4dfb-a141-d8fb9ebefbcf"
      },
      "outputs": [
        {
          "output_type": "stream",
          "name": "stderr",
          "text": [
            "100%|██████████| 169M/169M [00:03<00:00, 45.0MB/s]\n"
          ]
        },
        {
          "output_type": "stream",
          "name": "stdout",
          "text": [
            "epoch_loss:1798.6081914901733\n",
            "epoch_loss:3603.3655910491943\n",
            "epoch_loss:5409.199013710022\n"
          ]
        }
      ],
      "source": [
        "import torch\n",
        "import torch.nn as nn\n",
        "import torch.optim as optim\n",
        "from torchvision import datasets,transforms\n",
        "from torch.utils.data import DataLoader\n",
        "\n",
        "# Transforms\n",
        "transforms=transforms.Compose([transforms.ToTensor(),transforms.Normalize((0.5,0.5,0.5),(0.5,0.5,0.5))])\n",
        "\n",
        "#load the data\n",
        "train_data=datasets.CIFAR100(root='./dir',train=True,download=True,transform=transforms)\n",
        "test_data=datasets.CIFAR100(root='./dir',train=False,download=True,transform=transforms)\n",
        "#data loader\n",
        "train_loader=DataLoader(train_data,batch_size=128,shuffle=True)\n",
        "test_loader=DataLoader(test_data,batch_size=128,shuffle=False)\n",
        "#Architecture\n",
        "class mlp(nn.Module):\n",
        "    def __init__(self):\n",
        "        super(mlp,self).__init__()\n",
        "        self.flatten=nn.Flatten()\n",
        "        self.fc1=nn.Linear(32*32*3,1024)\n",
        "        self.fc2=nn.Linear(1024,512)\n",
        "        self.fc3=nn.Linear(512,256)\n",
        "        self.fc4=nn.Linear(256,128)\n",
        "        self.fc5=nn.Linear(128,100)\n",
        "    def forward(self,x):\n",
        "        x=self.flatten(x)\n",
        "        #x=torch.relu(self.fc1(x))  or\n",
        "        x=self.fc1(x)\n",
        "        x=torch.relu(x)\n",
        "        x=torch.relu(self.fc2(x))\n",
        "        x=torch.relu(self.fc3(x))\n",
        "        x=torch.relu(self.fc4(x))\n",
        "        x=self.fc5(x)\n",
        "        return x\n",
        "model=mlp() # object for class\n",
        "criterian =nn.CrossEntropyLoss()#loss\n",
        "optimizer=optim.Adam(model.parameters(),lr=0.001)\n",
        "\n",
        "# train ,# send to architecture,prediction,find losstrain,loss,optimizer(send the data,loss,back propogation,optmizer)\n",
        "epoch_loss=0.0\n",
        "for epoch in range(3):\n",
        "\n",
        "\n",
        "    for image,label in train_loader:\n",
        "        output=model(image)#send the data\n",
        "        loss=criterian(output,label)# loss\n",
        "        loss.backward()#back propogation\n",
        "        optimizer.step() #step of operation done\n",
        "        optimizer.zero_grad # initialize gradient to zero for next batch\n",
        "        epoch_loss+=loss.item()\n",
        "    print(f\"epoch_loss:{epoch_loss}\")\n",
        "    model.eval()\n",
        "    total=0\n",
        "    with torch.no_grad():\n",
        "        for images,label in test_loader:\n",
        "            output=model(images)\n",
        "            _,predicted=torch.max(output,1) # 1 refer to it must consider 1 row/column\n",
        "            total+=label.size(0)"
      ]
    }
  ]
}